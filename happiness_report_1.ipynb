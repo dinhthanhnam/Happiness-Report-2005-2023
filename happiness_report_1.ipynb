{
 "cells": [
  {
   "cell_type": "code",
   "execution_count": 1,
   "metadata": {},
   "outputs": [],
   "source": [
    "import numpy as np \n",
    "import pandas as pd\n",
    "import seaborn as sns\n",
    "import matplotlib.pyplot as plt\n",
    "from sklearn.tree import DecisionTreeRegressor\n",
    "from sklearn.preprocessing import StandardScaler\n",
    "from sklearn.linear_model import LinearRegression\n",
    "from sklearn.model_selection import train_test_split\n",
    "from sklearn.ensemble import RandomForestRegressor, VotingRegressor\n",
    "from sklearn.metrics import mean_squared_error, mean_absolute_error, r2_score\n"
   ]
  },
  {
   "cell_type": "code",
   "execution_count": 2,
   "metadata": {},
   "outputs": [],
   "source": [
    "# Đọc dữ liệu từ tệp thứ nhất\n",
    "df = pd.read_csv('WHR2005-2023.csv')\n",
    "\n",
    "Asia = df[df['Regional Indicator'].isin(['Southeast Asia', 'East Asia'])]\n",
    "\n",
    "Asia = Asia.round(4)\n",
    "Asia.to_csv('Asia.csv', index = False)\n"
   ]
  },
  {
   "cell_type": "code",
   "execution_count": 10,
   "metadata": {},
   "outputs": [
    {
     "name": "stdout",
     "output_type": "stream",
     "text": [
      "<class 'pandas.core.frame.DataFrame'>\n",
      "Index: 246 entries, 295 to 2183\n",
      "Data columns (total 10 columns):\n",
      " #   Column                            Non-Null Count  Dtype  \n",
      "---  ------                            --------------  -----  \n",
      " 0   Country Name                      246 non-null    object \n",
      " 1   Regional Indicator                246 non-null    object \n",
      " 2   Year                              246 non-null    int64  \n",
      " 3   Life Ladder                       246 non-null    float64\n",
      " 4   Logged GDP Per Capita             246 non-null    float64\n",
      " 5   Social Support                    246 non-null    float64\n",
      " 6   Healthy Life Expectancy At Birth  246 non-null    float64\n",
      " 7   Freedom To Make Life Choices      246 non-null    float64\n",
      " 8   Generosity                        246 non-null    float64\n",
      " 9   Perceptions Of Corruption         219 non-null    float64\n",
      "dtypes: float64(7), int64(1), object(2)\n",
      "memory usage: 21.1+ KB\n",
      "None\n"
     ]
    }
   ],
   "source": [
    "Asia_float = Asia.select_dtypes(include=['float64'])\n",
    "Asia_float\n",
    "\n",
    "\n",
    "Asia = Asia.loc[:, ~Asia.columns.str.contains('^Unnamed')]\n",
    "\n",
    "# Chuyển đổi kiểu dữ liệu của cột 'Perceptions Of Corruption' thành float64\n",
    "Asia['Perceptions Of Corruption'] = pd.to_numeric(Asia['Perceptions Of Corruption'], errors='coerce')\n",
    "\n",
    "# Hiển thị thông tin của DataFrame sau khi xoá cột và chuyển đổi kiểu dữ liệu\n",
    "print(Asia.info())\n"
   ]
  },
  {
   "cell_type": "code",
   "execution_count": 4,
   "metadata": {},
   "outputs": [
    {
     "data": {
      "text/plain": [
       "array(['Cambodia', 'China', 'Hong Kong S.A.R. of China', 'Indonesia',\n",
       "       'Japan', 'Laos', 'Malaysia', 'Mongolia', 'Myanmar', 'Philippines',\n",
       "       'Singapore', 'South Korea', 'Taiwan Province of China', 'Thailand',\n",
       "       'Vietnam'], dtype=object)"
      ]
     },
     "execution_count": 4,
     "metadata": {},
     "output_type": "execute_result"
    }
   ],
   "source": [
    "countries = Asia['Country Name'].unique()\n",
    "countries"
   ]
  },
  {
   "cell_type": "code",
   "execution_count": 12,
   "metadata": {},
   "outputs": [],
   "source": [
    "# Lặp qua từng quốc gia và điền giá trị trung bình cho các ô null\n",
    "for country in countries:\n",
    "    country_data = Asia[Asia['Country Name'] == country]\n",
    "    for column in country_data.columns:\n",
    "        if country_data[column].dtype == 'float64':\n",
    "            Asia.loc[Asia['Country Name'] == country, column] = country_data[column].fillna(country_data[column].mean())\n",
    "\n",
    "Asia.to_csv('Asia1.csv', index = False)"
   ]
  },
  {
   "cell_type": "code",
   "execution_count": 13,
   "metadata": {},
   "outputs": [],
   "source": [
    "asia_data = pd.read_csv('Asia1.csv')\n",
    "\n",
    "# Tách dữ liệu của Việt Nam\n",
    "vietnam_data = asia_data[asia_data['Country Name'] == 'Vietnam']\n",
    "\n",
    "vietnam_data.to_csv('Vietnam.csv', index=False)"
   ]
  },
  {
   "cell_type": "code",
   "execution_count": 14,
   "metadata": {},
   "outputs": [
    {
     "data": {
      "text/html": [
       "<div>\n",
       "<style scoped>\n",
       "    .dataframe tbody tr th:only-of-type {\n",
       "        vertical-align: middle;\n",
       "    }\n",
       "\n",
       "    .dataframe tbody tr th {\n",
       "        vertical-align: top;\n",
       "    }\n",
       "\n",
       "    .dataframe thead th {\n",
       "        text-align: right;\n",
       "    }\n",
       "</style>\n",
       "<table border=\"1\" class=\"dataframe\">\n",
       "  <thead>\n",
       "    <tr style=\"text-align: right;\">\n",
       "      <th></th>\n",
       "      <th>Country Name</th>\n",
       "      <th>Regional Indicator</th>\n",
       "      <th>Year</th>\n",
       "      <th>Life Ladder</th>\n",
       "      <th>Logged GDP Per Capita</th>\n",
       "      <th>Social Support</th>\n",
       "      <th>Healthy Life Expectancy At Birth</th>\n",
       "      <th>Freedom To Make Life Choices</th>\n",
       "      <th>Generosity</th>\n",
       "      <th>Perceptions Of Corruption</th>\n",
       "    </tr>\n",
       "  </thead>\n",
       "  <tbody>\n",
       "    <tr>\n",
       "      <th>228</th>\n",
       "      <td>Vietnam</td>\n",
       "      <td>Southeast Asia</td>\n",
       "      <td>2006</td>\n",
       "      <td>5.2937</td>\n",
       "      <td>8.5538</td>\n",
       "      <td>0.887700</td>\n",
       "      <td>64.180</td>\n",
       "      <td>0.8858</td>\n",
       "      <td>-0.003500</td>\n",
       "      <td>0.778491</td>\n",
       "    </tr>\n",
       "    <tr>\n",
       "      <th>229</th>\n",
       "      <td>Vietnam</td>\n",
       "      <td>Southeast Asia</td>\n",
       "      <td>2007</td>\n",
       "      <td>5.4217</td>\n",
       "      <td>8.6131</td>\n",
       "      <td>0.856000</td>\n",
       "      <td>64.260</td>\n",
       "      <td>0.9178</td>\n",
       "      <td>0.071100</td>\n",
       "      <td>0.753934</td>\n",
       "    </tr>\n",
       "    <tr>\n",
       "      <th>230</th>\n",
       "      <td>Vietnam</td>\n",
       "      <td>Southeast Asia</td>\n",
       "      <td>2008</td>\n",
       "      <td>5.4804</td>\n",
       "      <td>8.6583</td>\n",
       "      <td>0.804600</td>\n",
       "      <td>64.340</td>\n",
       "      <td>0.8886</td>\n",
       "      <td>0.182500</td>\n",
       "      <td>0.789238</td>\n",
       "    </tr>\n",
       "    <tr>\n",
       "      <th>231</th>\n",
       "      <td>Vietnam</td>\n",
       "      <td>Southeast Asia</td>\n",
       "      <td>2009</td>\n",
       "      <td>5.3043</td>\n",
       "      <td>8.7006</td>\n",
       "      <td>0.815000</td>\n",
       "      <td>64.420</td>\n",
       "      <td>0.8341</td>\n",
       "      <td>-0.080000</td>\n",
       "      <td>0.837870</td>\n",
       "    </tr>\n",
       "    <tr>\n",
       "      <th>232</th>\n",
       "      <td>Vietnam</td>\n",
       "      <td>Southeast Asia</td>\n",
       "      <td>2010</td>\n",
       "      <td>5.2958</td>\n",
       "      <td>8.7522</td>\n",
       "      <td>0.786600</td>\n",
       "      <td>64.500</td>\n",
       "      <td>0.8315</td>\n",
       "      <td>-0.023900</td>\n",
       "      <td>0.742637</td>\n",
       "    </tr>\n",
       "    <tr>\n",
       "      <th>233</th>\n",
       "      <td>Vietnam</td>\n",
       "      <td>Southeast Asia</td>\n",
       "      <td>2011</td>\n",
       "      <td>5.7673</td>\n",
       "      <td>8.8037</td>\n",
       "      <td>0.897700</td>\n",
       "      <td>64.580</td>\n",
       "      <td>0.8184</td>\n",
       "      <td>0.086800</td>\n",
       "      <td>0.742162</td>\n",
       "    </tr>\n",
       "    <tr>\n",
       "      <th>234</th>\n",
       "      <td>Vietnam</td>\n",
       "      <td>Southeast Asia</td>\n",
       "      <td>2012</td>\n",
       "      <td>5.5346</td>\n",
       "      <td>8.8465</td>\n",
       "      <td>0.775000</td>\n",
       "      <td>64.660</td>\n",
       "      <td>0.8561</td>\n",
       "      <td>-0.128700</td>\n",
       "      <td>0.814885</td>\n",
       "    </tr>\n",
       "    <tr>\n",
       "      <th>235</th>\n",
       "      <td>Vietnam</td>\n",
       "      <td>Southeast Asia</td>\n",
       "      <td>2013</td>\n",
       "      <td>5.0227</td>\n",
       "      <td>8.8898</td>\n",
       "      <td>0.759500</td>\n",
       "      <td>64.740</td>\n",
       "      <td>0.9196</td>\n",
       "      <td>-0.045600</td>\n",
       "      <td>0.771246</td>\n",
       "    </tr>\n",
       "    <tr>\n",
       "      <th>236</th>\n",
       "      <td>Vietnam</td>\n",
       "      <td>Southeast Asia</td>\n",
       "      <td>2014</td>\n",
       "      <td>5.0849</td>\n",
       "      <td>8.9414</td>\n",
       "      <td>0.792200</td>\n",
       "      <td>64.820</td>\n",
       "      <td>0.8976</td>\n",
       "      <td>-0.018800</td>\n",
       "      <td>0.778491</td>\n",
       "    </tr>\n",
       "    <tr>\n",
       "      <th>237</th>\n",
       "      <td>Vietnam</td>\n",
       "      <td>Southeast Asia</td>\n",
       "      <td>2015</td>\n",
       "      <td>5.0763</td>\n",
       "      <td>8.9985</td>\n",
       "      <td>0.848700</td>\n",
       "      <td>64.900</td>\n",
       "      <td>0.8976</td>\n",
       "      <td>0.066400</td>\n",
       "      <td>0.778491</td>\n",
       "    </tr>\n",
       "    <tr>\n",
       "      <th>238</th>\n",
       "      <td>Vietnam</td>\n",
       "      <td>Southeast Asia</td>\n",
       "      <td>2016</td>\n",
       "      <td>5.0623</td>\n",
       "      <td>9.0532</td>\n",
       "      <td>0.876300</td>\n",
       "      <td>65.000</td>\n",
       "      <td>0.8944</td>\n",
       "      <td>-0.109300</td>\n",
       "      <td>0.799240</td>\n",
       "    </tr>\n",
       "    <tr>\n",
       "      <th>239</th>\n",
       "      <td>Vietnam</td>\n",
       "      <td>Southeast Asia</td>\n",
       "      <td>2017</td>\n",
       "      <td>5.1753</td>\n",
       "      <td>9.1106</td>\n",
       "      <td>0.826029</td>\n",
       "      <td>65.100</td>\n",
       "      <td>0.8976</td>\n",
       "      <td>-0.012941</td>\n",
       "      <td>0.778491</td>\n",
       "    </tr>\n",
       "    <tr>\n",
       "      <th>240</th>\n",
       "      <td>Vietnam</td>\n",
       "      <td>Southeast Asia</td>\n",
       "      <td>2018</td>\n",
       "      <td>5.2955</td>\n",
       "      <td>9.1733</td>\n",
       "      <td>0.831900</td>\n",
       "      <td>65.200</td>\n",
       "      <td>0.9093</td>\n",
       "      <td>-0.060800</td>\n",
       "      <td>0.808423</td>\n",
       "    </tr>\n",
       "    <tr>\n",
       "      <th>241</th>\n",
       "      <td>Vietnam</td>\n",
       "      <td>Southeast Asia</td>\n",
       "      <td>2019</td>\n",
       "      <td>5.4675</td>\n",
       "      <td>9.2352</td>\n",
       "      <td>0.847600</td>\n",
       "      <td>65.300</td>\n",
       "      <td>0.9525</td>\n",
       "      <td>-0.145900</td>\n",
       "      <td>0.787889</td>\n",
       "    </tr>\n",
       "    <tr>\n",
       "      <th>242</th>\n",
       "      <td>Vietnam</td>\n",
       "      <td>Southeast Asia</td>\n",
       "      <td>2020</td>\n",
       "      <td>5.4623</td>\n",
       "      <td>9.2544</td>\n",
       "      <td>0.764500</td>\n",
       "      <td>65.400</td>\n",
       "      <td>0.9447</td>\n",
       "      <td>0.065800</td>\n",
       "      <td>0.791134</td>\n",
       "    </tr>\n",
       "    <tr>\n",
       "      <th>243</th>\n",
       "      <td>Vietnam</td>\n",
       "      <td>Southeast Asia</td>\n",
       "      <td>2021</td>\n",
       "      <td>5.5402</td>\n",
       "      <td>9.2713</td>\n",
       "      <td>0.799500</td>\n",
       "      <td>65.500</td>\n",
       "      <td>0.8968</td>\n",
       "      <td>0.106900</td>\n",
       "      <td>0.797788</td>\n",
       "    </tr>\n",
       "    <tr>\n",
       "      <th>244</th>\n",
       "      <td>Vietnam</td>\n",
       "      <td>Southeast Asia</td>\n",
       "      <td>2022</td>\n",
       "      <td>6.2665</td>\n",
       "      <td>9.3329</td>\n",
       "      <td>0.878700</td>\n",
       "      <td>65.600</td>\n",
       "      <td>0.9754</td>\n",
       "      <td>-0.179000</td>\n",
       "      <td>0.703423</td>\n",
       "    </tr>\n",
       "    <tr>\n",
       "      <th>245</th>\n",
       "      <td>Vietnam</td>\n",
       "      <td>Southeast Asia</td>\n",
       "      <td>2023</td>\n",
       "      <td>5.7630</td>\n",
       "      <td>9.2870</td>\n",
       "      <td>0.821000</td>\n",
       "      <td>65.502</td>\n",
       "      <td>0.9390</td>\n",
       "      <td>-0.004000</td>\n",
       "      <td>0.759000</td>\n",
       "    </tr>\n",
       "  </tbody>\n",
       "</table>\n",
       "</div>"
      ],
      "text/plain": [
       "    Country Name Regional Indicator  Year  Life Ladder  Logged GDP Per Capita  \\\n",
       "228      Vietnam     Southeast Asia  2006       5.2937                 8.5538   \n",
       "229      Vietnam     Southeast Asia  2007       5.4217                 8.6131   \n",
       "230      Vietnam     Southeast Asia  2008       5.4804                 8.6583   \n",
       "231      Vietnam     Southeast Asia  2009       5.3043                 8.7006   \n",
       "232      Vietnam     Southeast Asia  2010       5.2958                 8.7522   \n",
       "233      Vietnam     Southeast Asia  2011       5.7673                 8.8037   \n",
       "234      Vietnam     Southeast Asia  2012       5.5346                 8.8465   \n",
       "235      Vietnam     Southeast Asia  2013       5.0227                 8.8898   \n",
       "236      Vietnam     Southeast Asia  2014       5.0849                 8.9414   \n",
       "237      Vietnam     Southeast Asia  2015       5.0763                 8.9985   \n",
       "238      Vietnam     Southeast Asia  2016       5.0623                 9.0532   \n",
       "239      Vietnam     Southeast Asia  2017       5.1753                 9.1106   \n",
       "240      Vietnam     Southeast Asia  2018       5.2955                 9.1733   \n",
       "241      Vietnam     Southeast Asia  2019       5.4675                 9.2352   \n",
       "242      Vietnam     Southeast Asia  2020       5.4623                 9.2544   \n",
       "243      Vietnam     Southeast Asia  2021       5.5402                 9.2713   \n",
       "244      Vietnam     Southeast Asia  2022       6.2665                 9.3329   \n",
       "245      Vietnam     Southeast Asia  2023       5.7630                 9.2870   \n",
       "\n",
       "     Social Support  Healthy Life Expectancy At Birth  \\\n",
       "228        0.887700                            64.180   \n",
       "229        0.856000                            64.260   \n",
       "230        0.804600                            64.340   \n",
       "231        0.815000                            64.420   \n",
       "232        0.786600                            64.500   \n",
       "233        0.897700                            64.580   \n",
       "234        0.775000                            64.660   \n",
       "235        0.759500                            64.740   \n",
       "236        0.792200                            64.820   \n",
       "237        0.848700                            64.900   \n",
       "238        0.876300                            65.000   \n",
       "239        0.826029                            65.100   \n",
       "240        0.831900                            65.200   \n",
       "241        0.847600                            65.300   \n",
       "242        0.764500                            65.400   \n",
       "243        0.799500                            65.500   \n",
       "244        0.878700                            65.600   \n",
       "245        0.821000                            65.502   \n",
       "\n",
       "     Freedom To Make Life Choices  Generosity  Perceptions Of Corruption  \n",
       "228                        0.8858   -0.003500                   0.778491  \n",
       "229                        0.9178    0.071100                   0.753934  \n",
       "230                        0.8886    0.182500                   0.789238  \n",
       "231                        0.8341   -0.080000                   0.837870  \n",
       "232                        0.8315   -0.023900                   0.742637  \n",
       "233                        0.8184    0.086800                   0.742162  \n",
       "234                        0.8561   -0.128700                   0.814885  \n",
       "235                        0.9196   -0.045600                   0.771246  \n",
       "236                        0.8976   -0.018800                   0.778491  \n",
       "237                        0.8976    0.066400                   0.778491  \n",
       "238                        0.8944   -0.109300                   0.799240  \n",
       "239                        0.8976   -0.012941                   0.778491  \n",
       "240                        0.9093   -0.060800                   0.808423  \n",
       "241                        0.9525   -0.145900                   0.787889  \n",
       "242                        0.9447    0.065800                   0.791134  \n",
       "243                        0.8968    0.106900                   0.797788  \n",
       "244                        0.9754   -0.179000                   0.703423  \n",
       "245                        0.9390   -0.004000                   0.759000  "
      ]
     },
     "execution_count": 14,
     "metadata": {},
     "output_type": "execute_result"
    }
   ],
   "source": [
    "vietnam_data"
   ]
  },
  {
   "cell_type": "code",
   "execution_count": 19,
   "metadata": {},
   "outputs": [
    {
     "data": {
      "text/html": [
       "<div>\n",
       "<style scoped>\n",
       "    .dataframe tbody tr th:only-of-type {\n",
       "        vertical-align: middle;\n",
       "    }\n",
       "\n",
       "    .dataframe tbody tr th {\n",
       "        vertical-align: top;\n",
       "    }\n",
       "\n",
       "    .dataframe thead th {\n",
       "        text-align: right;\n",
       "    }\n",
       "</style>\n",
       "<table border=\"1\" class=\"dataframe\">\n",
       "  <thead>\n",
       "    <tr style=\"text-align: right;\">\n",
       "      <th></th>\n",
       "      <th>Country Name</th>\n",
       "      <th>Regional Indicator</th>\n",
       "      <th>Year</th>\n",
       "      <th>Life Ladder</th>\n",
       "      <th>Logged GDP Per Capita</th>\n",
       "      <th>Social Support</th>\n",
       "      <th>Healthy Life Expectancy At Birth</th>\n",
       "      <th>Freedom To Make Life Choices</th>\n",
       "      <th>Generosity</th>\n",
       "      <th>Perceptions Of Corruption</th>\n",
       "    </tr>\n",
       "  </thead>\n",
       "  <tbody>\n",
       "    <tr>\n",
       "      <th>0</th>\n",
       "      <td>Vietnam</td>\n",
       "      <td>Southeast Asia</td>\n",
       "      <td>2006</td>\n",
       "      <td>5.2937</td>\n",
       "      <td>8.5538</td>\n",
       "      <td>0.887700</td>\n",
       "      <td>64.180</td>\n",
       "      <td>0.8858</td>\n",
       "      <td>-0.003500</td>\n",
       "      <td>0.778491</td>\n",
       "    </tr>\n",
       "    <tr>\n",
       "      <th>1</th>\n",
       "      <td>Vietnam</td>\n",
       "      <td>Southeast Asia</td>\n",
       "      <td>2007</td>\n",
       "      <td>5.4217</td>\n",
       "      <td>8.6131</td>\n",
       "      <td>0.856000</td>\n",
       "      <td>64.260</td>\n",
       "      <td>0.9178</td>\n",
       "      <td>0.071100</td>\n",
       "      <td>0.753934</td>\n",
       "    </tr>\n",
       "    <tr>\n",
       "      <th>2</th>\n",
       "      <td>Vietnam</td>\n",
       "      <td>Southeast Asia</td>\n",
       "      <td>2008</td>\n",
       "      <td>5.4804</td>\n",
       "      <td>8.6583</td>\n",
       "      <td>0.804600</td>\n",
       "      <td>64.340</td>\n",
       "      <td>0.8886</td>\n",
       "      <td>0.182500</td>\n",
       "      <td>0.789238</td>\n",
       "    </tr>\n",
       "    <tr>\n",
       "      <th>3</th>\n",
       "      <td>Vietnam</td>\n",
       "      <td>Southeast Asia</td>\n",
       "      <td>2009</td>\n",
       "      <td>5.3043</td>\n",
       "      <td>8.7006</td>\n",
       "      <td>0.815000</td>\n",
       "      <td>64.420</td>\n",
       "      <td>0.8341</td>\n",
       "      <td>-0.080000</td>\n",
       "      <td>0.837870</td>\n",
       "    </tr>\n",
       "    <tr>\n",
       "      <th>4</th>\n",
       "      <td>Vietnam</td>\n",
       "      <td>Southeast Asia</td>\n",
       "      <td>2010</td>\n",
       "      <td>5.2958</td>\n",
       "      <td>8.7522</td>\n",
       "      <td>0.786600</td>\n",
       "      <td>64.500</td>\n",
       "      <td>0.8315</td>\n",
       "      <td>-0.023900</td>\n",
       "      <td>0.742637</td>\n",
       "    </tr>\n",
       "    <tr>\n",
       "      <th>5</th>\n",
       "      <td>Vietnam</td>\n",
       "      <td>Southeast Asia</td>\n",
       "      <td>2011</td>\n",
       "      <td>5.7673</td>\n",
       "      <td>8.8037</td>\n",
       "      <td>0.897700</td>\n",
       "      <td>64.580</td>\n",
       "      <td>0.8184</td>\n",
       "      <td>0.086800</td>\n",
       "      <td>0.742162</td>\n",
       "    </tr>\n",
       "    <tr>\n",
       "      <th>6</th>\n",
       "      <td>Vietnam</td>\n",
       "      <td>Southeast Asia</td>\n",
       "      <td>2012</td>\n",
       "      <td>5.5346</td>\n",
       "      <td>8.8465</td>\n",
       "      <td>0.775000</td>\n",
       "      <td>64.660</td>\n",
       "      <td>0.8561</td>\n",
       "      <td>-0.128700</td>\n",
       "      <td>0.814885</td>\n",
       "    </tr>\n",
       "    <tr>\n",
       "      <th>7</th>\n",
       "      <td>Vietnam</td>\n",
       "      <td>Southeast Asia</td>\n",
       "      <td>2013</td>\n",
       "      <td>5.0227</td>\n",
       "      <td>8.8898</td>\n",
       "      <td>0.759500</td>\n",
       "      <td>64.740</td>\n",
       "      <td>0.9196</td>\n",
       "      <td>-0.045600</td>\n",
       "      <td>0.771246</td>\n",
       "    </tr>\n",
       "    <tr>\n",
       "      <th>8</th>\n",
       "      <td>Vietnam</td>\n",
       "      <td>Southeast Asia</td>\n",
       "      <td>2014</td>\n",
       "      <td>5.0849</td>\n",
       "      <td>8.9414</td>\n",
       "      <td>0.792200</td>\n",
       "      <td>64.820</td>\n",
       "      <td>0.8976</td>\n",
       "      <td>-0.018800</td>\n",
       "      <td>0.778491</td>\n",
       "    </tr>\n",
       "    <tr>\n",
       "      <th>9</th>\n",
       "      <td>Vietnam</td>\n",
       "      <td>Southeast Asia</td>\n",
       "      <td>2015</td>\n",
       "      <td>5.0763</td>\n",
       "      <td>8.9985</td>\n",
       "      <td>0.848700</td>\n",
       "      <td>64.900</td>\n",
       "      <td>0.8976</td>\n",
       "      <td>0.066400</td>\n",
       "      <td>0.778491</td>\n",
       "    </tr>\n",
       "    <tr>\n",
       "      <th>10</th>\n",
       "      <td>Vietnam</td>\n",
       "      <td>Southeast Asia</td>\n",
       "      <td>2016</td>\n",
       "      <td>5.0623</td>\n",
       "      <td>9.0532</td>\n",
       "      <td>0.876300</td>\n",
       "      <td>65.000</td>\n",
       "      <td>0.8944</td>\n",
       "      <td>-0.109300</td>\n",
       "      <td>0.799240</td>\n",
       "    </tr>\n",
       "    <tr>\n",
       "      <th>11</th>\n",
       "      <td>Vietnam</td>\n",
       "      <td>Southeast Asia</td>\n",
       "      <td>2017</td>\n",
       "      <td>5.1753</td>\n",
       "      <td>9.1106</td>\n",
       "      <td>0.826029</td>\n",
       "      <td>65.100</td>\n",
       "      <td>0.8976</td>\n",
       "      <td>-0.012941</td>\n",
       "      <td>0.778491</td>\n",
       "    </tr>\n",
       "    <tr>\n",
       "      <th>12</th>\n",
       "      <td>Vietnam</td>\n",
       "      <td>Southeast Asia</td>\n",
       "      <td>2018</td>\n",
       "      <td>5.2955</td>\n",
       "      <td>9.1733</td>\n",
       "      <td>0.831900</td>\n",
       "      <td>65.200</td>\n",
       "      <td>0.9093</td>\n",
       "      <td>-0.060800</td>\n",
       "      <td>0.808423</td>\n",
       "    </tr>\n",
       "    <tr>\n",
       "      <th>13</th>\n",
       "      <td>Vietnam</td>\n",
       "      <td>Southeast Asia</td>\n",
       "      <td>2019</td>\n",
       "      <td>5.4675</td>\n",
       "      <td>9.2352</td>\n",
       "      <td>0.847600</td>\n",
       "      <td>65.300</td>\n",
       "      <td>0.9525</td>\n",
       "      <td>-0.145900</td>\n",
       "      <td>0.787889</td>\n",
       "    </tr>\n",
       "    <tr>\n",
       "      <th>14</th>\n",
       "      <td>Vietnam</td>\n",
       "      <td>Southeast Asia</td>\n",
       "      <td>2020</td>\n",
       "      <td>5.4623</td>\n",
       "      <td>9.2544</td>\n",
       "      <td>0.764500</td>\n",
       "      <td>65.400</td>\n",
       "      <td>0.9447</td>\n",
       "      <td>0.065800</td>\n",
       "      <td>0.791134</td>\n",
       "    </tr>\n",
       "    <tr>\n",
       "      <th>15</th>\n",
       "      <td>Vietnam</td>\n",
       "      <td>Southeast Asia</td>\n",
       "      <td>2021</td>\n",
       "      <td>5.5402</td>\n",
       "      <td>9.2713</td>\n",
       "      <td>0.799500</td>\n",
       "      <td>65.500</td>\n",
       "      <td>0.8968</td>\n",
       "      <td>0.106900</td>\n",
       "      <td>0.797788</td>\n",
       "    </tr>\n",
       "    <tr>\n",
       "      <th>16</th>\n",
       "      <td>Vietnam</td>\n",
       "      <td>Southeast Asia</td>\n",
       "      <td>2022</td>\n",
       "      <td>6.2665</td>\n",
       "      <td>9.3329</td>\n",
       "      <td>0.878700</td>\n",
       "      <td>65.600</td>\n",
       "      <td>0.9754</td>\n",
       "      <td>-0.179000</td>\n",
       "      <td>0.703423</td>\n",
       "    </tr>\n",
       "    <tr>\n",
       "      <th>17</th>\n",
       "      <td>Vietnam</td>\n",
       "      <td>Southeast Asia</td>\n",
       "      <td>2023</td>\n",
       "      <td>5.7630</td>\n",
       "      <td>9.2870</td>\n",
       "      <td>0.821000</td>\n",
       "      <td>65.502</td>\n",
       "      <td>0.9390</td>\n",
       "      <td>-0.004000</td>\n",
       "      <td>0.759000</td>\n",
       "    </tr>\n",
       "  </tbody>\n",
       "</table>\n",
       "</div>"
      ],
      "text/plain": [
       "   Country Name Regional Indicator  Year  Life Ladder  Logged GDP Per Capita  \\\n",
       "0       Vietnam     Southeast Asia  2006       5.2937                 8.5538   \n",
       "1       Vietnam     Southeast Asia  2007       5.4217                 8.6131   \n",
       "2       Vietnam     Southeast Asia  2008       5.4804                 8.6583   \n",
       "3       Vietnam     Southeast Asia  2009       5.3043                 8.7006   \n",
       "4       Vietnam     Southeast Asia  2010       5.2958                 8.7522   \n",
       "5       Vietnam     Southeast Asia  2011       5.7673                 8.8037   \n",
       "6       Vietnam     Southeast Asia  2012       5.5346                 8.8465   \n",
       "7       Vietnam     Southeast Asia  2013       5.0227                 8.8898   \n",
       "8       Vietnam     Southeast Asia  2014       5.0849                 8.9414   \n",
       "9       Vietnam     Southeast Asia  2015       5.0763                 8.9985   \n",
       "10      Vietnam     Southeast Asia  2016       5.0623                 9.0532   \n",
       "11      Vietnam     Southeast Asia  2017       5.1753                 9.1106   \n",
       "12      Vietnam     Southeast Asia  2018       5.2955                 9.1733   \n",
       "13      Vietnam     Southeast Asia  2019       5.4675                 9.2352   \n",
       "14      Vietnam     Southeast Asia  2020       5.4623                 9.2544   \n",
       "15      Vietnam     Southeast Asia  2021       5.5402                 9.2713   \n",
       "16      Vietnam     Southeast Asia  2022       6.2665                 9.3329   \n",
       "17      Vietnam     Southeast Asia  2023       5.7630                 9.2870   \n",
       "\n",
       "    Social Support  Healthy Life Expectancy At Birth  \\\n",
       "0         0.887700                            64.180   \n",
       "1         0.856000                            64.260   \n",
       "2         0.804600                            64.340   \n",
       "3         0.815000                            64.420   \n",
       "4         0.786600                            64.500   \n",
       "5         0.897700                            64.580   \n",
       "6         0.775000                            64.660   \n",
       "7         0.759500                            64.740   \n",
       "8         0.792200                            64.820   \n",
       "9         0.848700                            64.900   \n",
       "10        0.876300                            65.000   \n",
       "11        0.826029                            65.100   \n",
       "12        0.831900                            65.200   \n",
       "13        0.847600                            65.300   \n",
       "14        0.764500                            65.400   \n",
       "15        0.799500                            65.500   \n",
       "16        0.878700                            65.600   \n",
       "17        0.821000                            65.502   \n",
       "\n",
       "    Freedom To Make Life Choices  Generosity  Perceptions Of Corruption  \n",
       "0                         0.8858   -0.003500                   0.778491  \n",
       "1                         0.9178    0.071100                   0.753934  \n",
       "2                         0.8886    0.182500                   0.789238  \n",
       "3                         0.8341   -0.080000                   0.837870  \n",
       "4                         0.8315   -0.023900                   0.742637  \n",
       "5                         0.8184    0.086800                   0.742162  \n",
       "6                         0.8561   -0.128700                   0.814885  \n",
       "7                         0.9196   -0.045600                   0.771246  \n",
       "8                         0.8976   -0.018800                   0.778491  \n",
       "9                         0.8976    0.066400                   0.778491  \n",
       "10                        0.8944   -0.109300                   0.799240  \n",
       "11                        0.8976   -0.012941                   0.778491  \n",
       "12                        0.9093   -0.060800                   0.808423  \n",
       "13                        0.9525   -0.145900                   0.787889  \n",
       "14                        0.9447    0.065800                   0.791134  \n",
       "15                        0.8968    0.106900                   0.797788  \n",
       "16                        0.9754   -0.179000                   0.703423  \n",
       "17                        0.9390   -0.004000                   0.759000  "
      ]
     },
     "execution_count": 19,
     "metadata": {},
     "output_type": "execute_result"
    }
   ],
   "source": [
    "vietnam_data = pd.read_csv('Vietnam.csv')\n",
    "vietnam_data"
   ]
  },
  {
   "cell_type": "code",
   "execution_count": null,
   "metadata": {},
   "outputs": [],
   "source": [
    "import pandas as pd\n",
    "from sklearn.linear_model import LinearRegression\n",
    "from sklearn.model_selection import train_test_split\n",
    "from sklearn.metrics import mean_squared_error\n",
    "import statsmodels.api as sm\n",
    "import numpy as np\n",
    "import warnings\n",
    "warnings.filterwarnings(\"ignore\")\n",
    "\n",
    "\n",
    "# Đọc dữ liệu từ file CSV\n",
    "vietnam_data = pd.read_csv('Vietnam.csv')\n",
    "\n",
    "# Chọn các cột cần thiết\n",
    "selected_columns = ['Logged GDP Per Capita', 'Social Support', 'Healthy Life Expectancy At Birth', 'Freedom To Make Life Choices', 'Generosity', 'Perceptions Of Corruption', 'Life Ladder', 'Year']\n",
    "data_selected = vietnam_data[selected_columns]\n",
    "\n",
    "# Chia dữ liệu thành tập huấn luyện và tập kiểm tra\n",
    "train_data, test_data = train_test_split(data_selected, test_size=0.2, random_state=42)\n",
    "\n",
    "# Tạo mô hình Linear Regression\n",
    "model = LinearRegression()\n",
    "\n",
    "# Huấn luyện mô hình\n",
    "X_train = train_data[selected_columns[:-2]]  # Chọn tất cả các cột ngoại trừ 'Life Ladder' và 'Year'\n",
    "y_train = train_data['Life Ladder']\n",
    "model.fit(X_train, y_train)\n",
    "\n",
    "# Kiểm tra mô hình trên tập kiểm tra\n",
    "X_test = test_data[selected_columns[:-2]]  # Chọn tất cả các cột ngoại trừ 'Life Ladder' và 'Year'\n",
    "y_test = test_data['Life Ladder']\n",
    "predictions = model.predict(X_test)\n",
    "\n",
    "# Đánh giá mô hình\n",
    "mae = mean_absolute_error(y_test, predictions)\n",
    "mse = mean_squared_error(y_test, predictions)\n",
    "rmse = np.sqrt(mse)\n",
    "r2 = r2_score(y_test, predictions)\n",
    "\n",
    "print(f'Mean Absolute Error (MAE): {mae:.4f}')\n",
    "print(f'Mean Squared Error (MSE): {mse:.4f}')\n",
    "print(f'Root Mean Squared Error (RMSE): {rmse:.4f}')\n",
    "print(f'R-squared (R2): {r2:.4f}')\n",
    "\n",
    "# Dự đoán cho năm 2024 sử dụng ARIMA cho từng biến độc lập\n",
    "independent_variables = ['Logged GDP Per Capita', 'Social Support', 'Healthy Life Expectancy At Birth', 'Freedom To Make Life Choices', 'Generosity', 'Perceptions Of Corruption']\n",
    "forecasted_values = []  # Define an empty list to store forecasted values\n",
    "\n",
    "for variable in independent_variables:\n",
    "    # Tạo mô hình ARIMA với chỉ mục là 'Year'\n",
    "    model_arima = sm.tsa.ARIMA(train_data[variable], order=(0, 0, 1))  # Thay p, d, q bằng các giá trị thích hợp\n",
    "    results = model_arima.fit()\n",
    "\n",
    "    # Dự đoán giá trị cho năm 2024\n",
    "    forecast = results.get_forecast(steps=1)\n",
    "    forecasted_value = forecast.predicted_mean.iloc[0]\n",
    "    \n",
    "    # Append the forecasted value to the list\n",
    "    forecasted_values.append(forecasted_value)\n",
    "    \n",
    "    # In kết quả\n",
    "    print(f'Predicted value for {variable} in 2024: {forecasted_value}')\n",
    "\n",
    "# Sử dụng mô hình Linear Regression để dự đoán Life Ladder cho năm 2024\n",
    "# Bạn có thể thêm cột 'Year' vào dự đoán để sử dụng như chỉ mục cho mô hình ARIMA\n",
    "predicted_life_ladder_2024 = model.predict([forecasted_values])\n",
    "\n",
    "print(f'Predicted Life Ladder for 2024: {predicted_life_ladder_2024[0]}')"
   ]
  },
  {
   "cell_type": "code",
   "execution_count": 22,
   "metadata": {},
   "outputs": [
    {
     "name": "stdout",
     "output_type": "stream",
     "text": [
      "Linear Regression Metrics:\n",
      "Mean Absolute Error (MAE): 0.3259\n",
      "Mean Squared Error (MSE): 0.1392\n",
      "Root Mean Squared Error (RMSE): 0.3731\n",
      "R-squared (R2): -1.2661\n",
      "Predicted value for Logged GDP Per Capita in 2024 using SARIMAX: 9.613448937933946\n",
      "Predicted value for Social Support in 2024 using SARIMAX: 0.8037431287705998\n",
      "Predicted value for Healthy Life Expectancy At Birth in 2024 using SARIMAX: 65.99935273843244\n",
      "Predicted value for Freedom To Make Life Choices in 2024 using SARIMAX: 1.0685849128753684\n",
      "Predicted value for Generosity in 2024 using SARIMAX: -0.1789580805426504\n",
      "Predicted value for Perceptions Of Corruption in 2024 using SARIMAX: 0.6908406075567007\n",
      "Predicted Life Ladder for 2024: 5.770843635193444\n"
     ]
    }
   ],
   "source": [
    "import pandas as pd\n",
    "import numpy as np\n",
    "from sklearn.linear_model import LinearRegression\n",
    "from sklearn.model_selection import train_test_split\n",
    "from sklearn.metrics import mean_absolute_error, mean_squared_error, r2_score\n",
    "import statsmodels.api as sm\n",
    "from statsmodels.tsa.statespace.sarimax import SARIMAX\n",
    "import warnings\n",
    "\n",
    "warnings.filterwarnings(\"ignore\")\n",
    "# Đọc dữ liệu từ file CSV\n",
    "vietnam_data = pd.read_csv('Vietnam.csv')\n",
    "\n",
    "# Chọn các cột cần thiết\n",
    "selected_columns = ['Logged GDP Per Capita', 'Social Support', 'Healthy Life Expectancy At Birth', 'Freedom To Make Life Choices', 'Generosity', 'Perceptions Of Corruption', 'Life Ladder', 'Year']\n",
    "data_selected = vietnam_data[selected_columns]\n",
    "\n",
    "# Chia dữ liệu thành tập huấn luyện và tập kiểm tra\n",
    "train_data, test_data = train_test_split(data_selected, test_size=0.2, random_state=42)\n",
    "\n",
    "# Tạo mô hình Linear Regression\n",
    "model_lr = LinearRegression()\n",
    "\n",
    "# Huấn luyện mô hình Linear Regression\n",
    "X_train_lr = train_data[selected_columns[:-2]]  # Chọn tất cả các cột ngoại trừ 'Life Ladder' và 'Year'\n",
    "y_train_lr = train_data['Life Ladder']\n",
    "model_lr.fit(X_train_lr, y_train_lr)\n",
    "\n",
    "# Kiểm tra mô hình Linear Regression trên tập kiểm tra\n",
    "X_test_lr = test_data[selected_columns[:-2]]  # Chọn tất cả các cột ngoại trừ 'Life Ladder' và 'Year'\n",
    "y_test_lr = test_data['Life Ladder']\n",
    "predictions_lr = model_lr.predict(X_test_lr)\n",
    "\n",
    "# Đánh giá mô hình Linear Regression\n",
    "mae_lr = mean_absolute_error(y_test_lr, predictions_lr)\n",
    "mse_lr = mean_squared_error(y_test_lr, predictions_lr)\n",
    "rmse_lr = np.sqrt(mse_lr)\n",
    "r2_lr = r2_score(y_test_lr, predictions_lr)\n",
    "\n",
    "print(\"Linear Regression Metrics:\")\n",
    "print(f'Mean Absolute Error (MAE): {mae_lr:.4f}')\n",
    "print(f'Mean Squared Error (MSE): {mse_lr:.4f}')\n",
    "print(f'Root Mean Squared Error (RMSE): {rmse_lr:.4f}')\n",
    "print(f'R-squared (R2): {r2_lr:.4f}')\n",
    "\n",
    "# Dự đoán cho năm 2024 sử dụng SARIMAX cho từng biến độc lập\n",
    "independent_variables = ['Logged GDP Per Capita', 'Social Support', 'Healthy Life Expectancy At Birth', 'Freedom To Make Life Choices', 'Generosity', 'Perceptions Of Corruption']\n",
    "forecasted_values_sarimax = {}  # Dictionary to store forecasted values for each variable\n",
    "\n",
    "for variable in independent_variables:\n",
    "    # Tạo mô hình SARIMAX với chỉ mục là 'Year'\n",
    "    model_sarimax = SARIMAX(train_data[variable], order=(1, 0, 1), seasonal_order=(1, 1, 1, 12), enforce_stationarity=True, enforce_invertibility=False)\n",
    "    results_sarimax = model_sarimax.fit()\n",
    "\n",
    "    # Dự đoán giá trị cho năm 2024\n",
    "    forecast_sarimax = results_sarimax.get_forecast(steps=1)\n",
    "    forecasted_value_sarimax = forecast_sarimax.predicted_mean.iloc[0]\n",
    "    \n",
    "    # Lưu giá trị dự đoán vào từ điển\n",
    "    forecasted_values_sarimax[variable] = forecasted_value_sarimax\n",
    "    \n",
    "\n",
    "    # In kết quả\n",
    "    print(f'Predicted value for {variable} in 2024 using SARIMAX: {forecasted_value_sarimax}')\n",
    "\n",
    "# Sử dụng mô hình Linear Regression để dự đoán Life Ladder cho năm 2024 sử dụng giá trị từ SARIMAX\n",
    "X_test_lr_2024 = np.array(list(forecasted_values_sarimax.values())).reshape(1, -1)\n",
    "predicted_life_ladder_2024_sarimax = model_lr.predict(X_test_lr_2024)\n",
    "\n",
    "print(f'Predicted Life Ladder for 2024: {predicted_life_ladder_2024_sarimax[0]}')\n"
   ]
  },
  {
   "cell_type": "code",
   "execution_count": 23,
   "metadata": {},
   "outputs": [
    {
     "name": "stdout",
     "output_type": "stream",
     "text": [
      "Random Forest Regressor Metrics:\n",
      "Mean Absolute Error (MAE): 0.0571\n",
      "Mean Squared Error (MSE): 0.0057\n",
      "Root Mean Squared Error (RMSE): 0.0758\n",
      "R-squared (R2): 0.9064\n",
      "Predicted Life Ladder for 2024 using Random Forest Regressor: 5.885823999999996\n"
     ]
    }
   ],
   "source": [
    "from sklearn.ensemble import RandomForestRegressor\n",
    "\n",
    "# Tạo mô hình Random Forest Regressor\n",
    "forest_model = RandomForestRegressor(random_state=42)\n",
    "\n",
    "# Huấn luyện mô hình trên tập huấn luyện\n",
    "forest_model.fit(X_train, y_train)\n",
    "\n",
    "# Dự đoán trên tập kiểm tra\n",
    "forest_predictions = forest_model.predict(X_test)\n",
    "\n",
    "# Đánh giá mô hình Random Forest\n",
    "mae_forest = mean_absolute_error(y_test, forest_predictions)\n",
    "mse_forest = mean_squared_error(y_test, forest_predictions)\n",
    "rmse_forest = np.sqrt(mse_forest)\n",
    "r2_forest = r2_score(y_test, forest_predictions)\n",
    "\n",
    "print(\"Random Forest Regressor Metrics:\")\n",
    "print(f'Mean Absolute Error (MAE): {mae_forest:.4f}')\n",
    "print(f'Mean Squared Error (MSE): {mse_forest:.4f}')\n",
    "print(f'Root Mean Squared Error (RMSE): {rmse_forest:.4f}')\n",
    "print(f'R-squared (R2): {r2_forest:.4f}')\n",
    "\n",
    "# Dự đoán Life Ladder cho năm 2024\n",
    "predicted_life_ladder_2024_sarimax = forest_model.predict(X_test_lr_2024)\n",
    "\n",
    "print(f'Predicted Life Ladder for 2024 using Random Forest Regressor: {predicted_life_ladder_2024_sarimax[0]}')\n"
   ]
  },
  {
   "cell_type": "code",
   "execution_count": null,
   "metadata": {},
   "outputs": [
    {
     "data": {
      "image/png": "[encoded data removed]",
      "text/plain": [
       "<Figure size 640x480 with 1 Axes>"
      ]
     },
     "metadata": {},
     "output_type": "display_data"
    }
   ],
   "source": [
    "import matplotlib.pyplot as plt\n",
    "\n",
    "# Lấy tính chất quan trọng của biến từ mô hình\n",
    "feature_importances = forest_model.feature_importances_\n",
    "\n",
    "# Hiển thị biểu đồ cột về tính quan trọng của biến\n",
    "plt.bar(range(len(feature_importances)), feature_importances, tick_label=list(X_train.columns))\n",
    "plt.xlabel('Features')\n",
    "plt.ylabel('Importance')\n",
    "plt.xticks(rotation=45, ha='right')  # Xoay tên đặc trưng\n",
    "plt.tight_layout()\n",
    "plt.show()\n"
   ]
  },
  {
   "cell_type": "code",
   "execution_count": null,
   "metadata": {},
   "outputs": [
    {
     "data": {
      "image/png": "[encoded data removed]",
      "text/plain": [
       "<Figure size 640x480 with 1 Axes>"
      ]
     },
     "metadata": {},
     "output_type": "display_data"
    }
   ],
   "source": [
    "import matplotlib.pyplot as plt\n",
    "import pandas as pd\n",
    "\n",
    "\n",
    "# Chọn các biến độc lập và biến phụ thuộc\n",
    "independent_variables = ['Logged GDP Per Capita', 'Social Support', 'Healthy Life Expectancy At Birth', 'Freedom To Make Life Choices', 'Generosity', 'Perceptions Of Corruption']\n",
    "dependent_variable = 'Life Ladder'\n",
    "\n",
    "# Vẽ biểu đồ Scatter Plot cho mỗi biến độc lập đối với biến phụ thuộc\n",
    "for variable in independent_variables:\n",
    "    plt.scatter(vietnam_data[variable], vietnam_data[dependent_variable], label=variable)\n",
    "\n",
    "# Thiết lập các thông số của biểu đồ\n",
    "plt.title(f'Scatter Plot of Independent Variables vs. {dependent_variable}')\n",
    "plt.xlabel('Independent Variables')\n",
    "plt.ylabel(dependent_variable)\n",
    "plt.legend()\n",
    "plt.show()\n"
   ]
  },
  {
   "cell_type": "code",
   "execution_count": null,
   "metadata": {},
   "outputs": [
    {
     "data": {
      "application/vnd.plotly.v1+json": {
       "config": {
        "plotlyServerURL": "https://plot.ly"
       },
       "data": [
        {
         "coloraxis": "coloraxis",
         "geo": "geo",
         "hovertemplate": "Country Name=%{location}<br>Lifer Ladder=%{z}<extra></extra>",
         "locationmode": "country names",
         "locations": [
          "Cambodia",
          "China",
          "Hong Kong S.A.R. of China",
          "Indonesia",
          "Japan",
          "Laos",
          "Malaysia",
          "Mongolia",
          "Myanmar",
          "Philippines",
          "Singapore",
          "South Korea",
          "Taiwan Province of China",
          "Thailand",
          "Vietnam"
         ],
         "name": "",
         "type": "choropleth",
         "z": [
          4.5551,
          5.8629,
          5.3216,
          5.4332,
          6.0913,
          4.9265,
          6.0104,
          5.721,
          4.314,
          5.9651,
          6.5867,
          6.1127,
          6.2467,
          5.6381,
          5.5402
         ]
        }
       ],
       "layout": {
        "coloraxis": {
         "colorbar": {
          "title": {
           "text": "Lifer Ladder"
          }
         },
         "colorscale": [
          [
           0,
           "#440154"
          ],
          [
           0.1111111111111111,
           "#482878"
          ],
          [
           0.2222222222222222,
           "#3e4989"
          ],
          [
           0.3333333333333333,
           "#31688e"
          ],
          [
           0.4444444444444444,
           "#26828e"
          ],
          [
           0.5555555555555556,
           "#1f9e89"
          ],
          [
           0.6666666666666666,
           "#35b779"
          ],
          [
           0.7777777777777778,
           "#6ece58"
          ],
          [
           0.8888888888888888,
           "#b5de2b"
          ],
          [
           1,
           "#fde725"
          ]
         ]
        },
        "geo": {
         "bgcolor": "rgb(248, 248, 255)",
         "center": {},
         "domain": {
          "x": [
           0,
           1
          ],
          "y": [
           0,
           1
          ]
         },
         "showframe": false
        },
        "legend": {
         "tracegroupgap": 0
        },
        "paper_bgcolor": "rgb(248, 248, 255)",
        "showlegend": false,
        "template": {
         "data": {
          "bar": [
           {
            "error_x": {
             "color": "#2a3f5f"
            },
            "error_y": {
             "color": "#2a3f5f"
            },
            "marker": {
             "line": {
              "color": "#E5ECF6",
              "width": 0.5
             },
             "pattern": {
              "fillmode": "overlay",
              "size": 10,
              "solidity": 0.2
             }
            },
            "type": "bar"
           }
          ],
          "barpolar": [
           {
            "marker": {
             "line": {
              "color": "#E5ECF6",
              "width": 0.5
             },
             "pattern": {
              "fillmode": "overlay",
              "size": 10,
              "solidity": 0.2
             }
            },
            "type": "barpolar"
           }
          ],
          "carpet": [
           {
            "aaxis": {
             "endlinecolor": "#2a3f5f",
             "gridcolor": "white",
             "linecolor": "white",
             "minorgridcolor": "white",
             "startlinecolor": "#2a3f5f"
            },
            "baxis": {
             "endlinecolor": "#2a3f5f",
             "gridcolor": "white",
             "linecolor": "white",
             "minorgridcolor": "white",
             "startlinecolor": "#2a3f5f"
            },
            "type": "carpet"
           }
          ],
          "choropleth": [
           {
            "colorbar": {
             "outlinewidth": 0,
             "ticks": ""
            },
            "type": "choropleth"
           }
          ],
          "contour": [
           {
            "colorbar": {
             "outlinewidth": 0,
             "ticks": ""
            },
            "colorscale": [
             [
              0,
              "#0d0887"
             ],
             [
              0.1111111111111111,
              "#46039f"
             ],
             [
              0.2222222222222222,
              "#7201a8"
             ],
             [
              0.3333333333333333,
              "#9c179e"
             ],
             [
              0.4444444444444444,
              "#bd3786"
             ],
             [
              0.5555555555555556,
              "#d8576b"
             ],
             [
              0.6666666666666666,
              "#ed7953"
             ],
             [
              0.7777777777777778,
              "#fb9f3a"
             ],
             [
              0.8888888888888888,
              "#fdca26"
             ],
             [
              1,
              "#f0f921"
             ]
            ],
            "type": "contour"
           }
          ],
          "contourcarpet": [
           {
            "colorbar": {
             "outlinewidth": 0,
             "ticks": ""
            },
            "type": "contourcarpet"
           }
          ],
          "heatmap": [
           {
            "colorbar": {
             "outlinewidth": 0,
             "ticks": ""
            },
            "colorscale": [
             [
              0,
              "#0d0887"
             ],
             [
              0.1111111111111111,
              "#46039f"
             ],
             [
              0.2222222222222222,
              "#7201a8"
             ],
             [
              0.3333333333333333,
              "#9c179e"
             ],
             [
              0.4444444444444444,
              "#bd3786"
             ],
             [
              0.5555555555555556,
              "#d8576b"
             ],
             [
              0.6666666666666666,
              "#ed7953"
             ],
             [
              0.7777777777777778,
              "#fb9f3a"
             ],
             [
              0.8888888888888888,
              "#fdca26"
             ],
             [
              1,
              "#f0f921"
             ]
            ],
            "type": "heatmap"
           }
          ],
          "heatmapgl": [
           {
            "colorbar": {
             "outlinewidth": 0,
             "ticks": ""
            },
            "colorscale": [
             [
              0,
              "#0d0887"
             ],
             [
              0.1111111111111111,
              "#46039f"
             ],
             [
              0.2222222222222222,
              "#7201a8"
             ],
             [
              0.3333333333333333,
              "#9c179e"
             ],
             [
              0.4444444444444444,
              "#bd3786"
             ],
             [
              0.5555555555555556,
              "#d8576b"
             ],
             [
              0.6666666666666666,
              "#ed7953"
             ],
             [
              0.7777777777777778,
              "#fb9f3a"
             ],
             [
              0.8888888888888888,
              "#fdca26"
             ],
             [
              1,
              "#f0f921"
             ]
            ],
            "type": "heatmapgl"
           }
          ],
          "histogram": [
           {
            "marker": {
             "pattern": {
              "fillmode": "overlay",
              "size": 10,
              "solidity": 0.2
             }
            },
            "type": "histogram"
           }
          ],
          "histogram2d": [
           {
            "colorbar": {
             "outlinewidth": 0,
             "ticks": ""
            },
            "colorscale": [
             [
              0,
              "#0d0887"
             ],
             [
              0.1111111111111111,
              "#46039f"
             ],
             [
              0.2222222222222222,
              "#7201a8"
             ],
             [
              0.3333333333333333,
              "#9c179e"
             ],
             [
              0.4444444444444444,
              "#bd3786"
             ],
             [
              0.5555555555555556,
              "#d8576b"
             ],
             [
              0.6666666666666666,
              "#ed7953"
             ],
             [
              0.7777777777777778,
              "#fb9f3a"
             ],
             [
              0.8888888888888888,
              "#fdca26"
             ],
             [
              1,
              "#f0f921"
             ]
            ],
            "type": "histogram2d"
           }
          ],
          "histogram2dcontour": [
           {
            "colorbar": {
             "outlinewidth": 0,
             "ticks": ""
            },
            "colorscale": [
             [
              0,
              "#0d0887"
             ],
             [
              0.1111111111111111,
              "#46039f"
             ],
             [
              0.2222222222222222,
              "#7201a8"
             ],
             [
              0.3333333333333333,
              "#9c179e"
             ],
             [
              0.4444444444444444,
              "#bd3786"
             ],
             [
              0.5555555555555556,
              "#d8576b"
             ],
             [
              0.6666666666666666,
              "#ed7953"
             ],
             [
              0.7777777777777778,
              "#fb9f3a"
             ],
             [
              0.8888888888888888,
              "#fdca26"
             ],
             [
              1,
              "#f0f921"
             ]
            ],
            "type": "histogram2dcontour"
           }
          ],
          "mesh3d": [
           {
            "colorbar": {
             "outlinewidth": 0,
             "ticks": ""
            },
            "type": "mesh3d"
           }
          ],
          "parcoords": [
           {
            "line": {
             "colorbar": {
              "outlinewidth": 0,
              "ticks": ""
             }
            },
            "type": "parcoords"
           }
          ],
          "pie": [
           {
            "automargin": true,
            "type": "pie"
           }
          ],
          "scatter": [
           {
            "fillpattern": {
             "fillmode": "overlay",
             "size": 10,
             "solidity": 0.2
            },
            "type": "scatter"
           }
          ],
          "scatter3d": [
           {
            "line": {
             "colorbar": {
              "outlinewidth": 0,
              "ticks": ""
             }
            },
            "marker": {
             "colorbar": {
              "outlinewidth": 0,
              "ticks": ""
             }
            },
            "type": "scatter3d"
           }
          ],
          "scattercarpet": [
           {
            "marker": {
             "colorbar": {
              "outlinewidth": 0,
              "ticks": ""
             }
            },
            "type": "scattercarpet"
           }
          ],
          "scattergeo": [
           {
            "marker": {
             "colorbar": {
              "outlinewidth": 0,
              "ticks": ""
             }
            },
            "type": "scattergeo"
           }
          ],
          "scattergl": [
           {
            "marker": {
             "colorbar": {
              "outlinewidth": 0,
              "ticks": ""
             }
            },
            "type": "scattergl"
           }
          ],
          "scattermapbox": [
           {
            "marker": {
             "colorbar": {
              "outlinewidth": 0,
              "ticks": ""
             }
            },
            "type": "scattermapbox"
           }
          ],
          "scatterpolar": [
           {
            "marker": {
             "colorbar": {
              "outlinewidth": 0,
              "ticks": ""
             }
            },
            "type": "scatterpolar"
           }
          ],
          "scatterpolargl": [
           {
            "marker": {
             "colorbar": {
              "outlinewidth": 0,
              "ticks": ""
             }
            },
            "type": "scatterpolargl"
           }
          ],
          "scatterternary": [
           {
            "marker": {
             "colorbar": {
              "outlinewidth": 0,
              "ticks": ""
             }
            },
            "type": "scatterternary"
           }
          ],
          "surface": [
           {
            "colorbar": {
             "outlinewidth": 0,
             "ticks": ""
            },
            "colorscale": [
             [
              0,
              "#0d0887"
             ],
             [
              0.1111111111111111,
              "#46039f"
             ],
             [
              0.2222222222222222,
              "#7201a8"
             ],
             [
              0.3333333333333333,
              "#9c179e"
             ],
             [
              0.4444444444444444,
              "#bd3786"
             ],
             [
              0.5555555555555556,
              "#d8576b"
             ],
             [
              0.6666666666666666,
              "#ed7953"
             ],
             [
              0.7777777777777778,
              "#fb9f3a"
             ],
             [
              0.8888888888888888,
              "#fdca26"
             ],
             [
              1,
              "#f0f921"
             ]
            ],
            "type": "surface"
           }
          ],
          "table": [
           {
            "cells": {
             "fill": {
              "color": "#EBF0F8"
             },
             "line": {
              "color": "white"
             }
            },
            "header": {
             "fill": {
              "color": "#C8D4E3"
             },
             "line": {
              "color": "white"
             }
            },
            "type": "table"
           }
          ]
         },
         "layout": {
          "annotationdefaults": {
           "arrowcolor": "#2a3f5f",
           "arrowhead": 0,
           "arrowwidth": 1
          },
          "autotypenumbers": "strict",
          "coloraxis": {
           "colorbar": {
            "outlinewidth": 0,
            "ticks": ""
           }
          },
          "colorscale": {
           "diverging": [
            [
             0,
             "#8e0152"
            ],
            [
             0.1,
             "#c51b7d"
            ],
            [
             0.2,
             "#de77ae"
            ],
            [
             0.3,
             "#f1b6da"
            ],
            [
             0.4,
             "#fde0ef"
            ],
            [
             0.5,
             "#f7f7f7"
            ],
            [
             0.6,
             "#e6f5d0"
            ],
            [
             0.7,
             "#b8e186"
            ],
            [
             0.8,
             "#7fbc41"
            ],
            [
             0.9,
             "#4d9221"
            ],
            [
             1,
             "#276419"
            ]
           ],
           "sequential": [
            [
             0,
             "#0d0887"
            ],
            [
             0.1111111111111111,
             "#46039f"
            ],
            [
             0.2222222222222222,
             "#7201a8"
            ],
            [
             0.3333333333333333,
             "#9c179e"
            ],
            [
             0.4444444444444444,
             "#bd3786"
            ],
            [
             0.5555555555555556,
             "#d8576b"
            ],
            [
             0.6666666666666666,
             "#ed7953"
            ],
            [
             0.7777777777777778,
             "#fb9f3a"
            ],
            [
             0.8888888888888888,
             "#fdca26"
            ],
            [
             1,
             "#f0f921"
            ]
           ],
           "sequentialminus": [
            [
             0,
             "#0d0887"
            ],
            [
             0.1111111111111111,
             "#46039f"
            ],
            [
             0.2222222222222222,
             "#7201a8"
            ],
            [
             0.3333333333333333,
             "#9c179e"
            ],
            [
             0.4444444444444444,
             "#bd3786"
            ],
            [
             0.5555555555555556,
             "#d8576b"
            ],
            [
             0.6666666666666666,
             "#ed7953"
            ],
            [
             0.7777777777777778,
             "#fb9f3a"
            ],
            [
             0.8888888888888888,
             "#fdca26"
            ],
            [
             1,
             "#f0f921"
            ]
           ]
          },
          "colorway": [
           "#636efa",
           "#EF553B",
           "#00cc96",
           "#ab63fa",
           "#FFA15A",
           "#19d3f3",
           "#FF6692",
           "#B6E880",
           "#FF97FF",
           "#FECB52"
          ],
          "font": {
           "color": "#2a3f5f"
          },
          "geo": {
           "bgcolor": "white",
           "lakecolor": "white",
           "landcolor": "#E5ECF6",
           "showlakes": true,
           "showland": true,
           "subunitcolor": "white"
          },
          "hoverlabel": {
           "align": "left"
          },
          "hovermode": "closest",
          "mapbox": {
           "style": "light"
          },
          "paper_bgcolor": "white",
          "plot_bgcolor": "#E5ECF6",
          "polar": {
           "angularaxis": {
            "gridcolor": "white",
            "linecolor": "white",
            "ticks": ""
           },
           "bgcolor": "#E5ECF6",
           "radialaxis": {
            "gridcolor": "white",
            "linecolor": "white",
            "ticks": ""
           }
          },
          "scene": {
           "xaxis": {
            "backgroundcolor": "#E5ECF6",
            "gridcolor": "white",
            "gridwidth": 2,
            "linecolor": "white",
            "showbackground": true,
            "ticks": "",
            "zerolinecolor": "white"
           },
           "yaxis": {
            "backgroundcolor": "#E5ECF6",
            "gridcolor": "white",
            "gridwidth": 2,
            "linecolor": "white",
            "showbackground": true,
            "ticks": "",
            "zerolinecolor": "white"
           },
           "zaxis": {
            "backgroundcolor": "#E5ECF6",
            "gridcolor": "white",
            "gridwidth": 2,
            "linecolor": "white",
            "showbackground": true,
            "ticks": "",
            "zerolinecolor": "white"
           }
          },
          "shapedefaults": {
           "line": {
            "color": "#2a3f5f"
           }
          },
          "ternary": {
           "aaxis": {
            "gridcolor": "white",
            "linecolor": "white",
            "ticks": ""
           },
           "baxis": {
            "gridcolor": "white",
            "linecolor": "white",
            "ticks": ""
           },
           "bgcolor": "#E5ECF6",
           "caxis": {
            "gridcolor": "white",
            "linecolor": "white",
            "ticks": ""
           }
          },
          "title": {
           "x": 0.05
          },
          "xaxis": {
           "automargin": true,
           "gridcolor": "white",
           "linecolor": "white",
           "ticks": "",
           "title": {
            "standoff": 15
           },
           "zerolinecolor": "white",
           "zerolinewidth": 2
          },
          "yaxis": {
           "automargin": true,
           "gridcolor": "white",
           "linecolor": "white",
           "ticks": "",
           "title": {
            "standoff": 15
           },
           "zerolinecolor": "white",
           "zerolinewidth": 2
          }
         }
        },
        "title": {
         "font": {
          "size": 22
         },
         "text": "World map - Life Ladder"
        }
       }
      }
     },
     "metadata": {},
     "output_type": "display_data"
    }
   ],
   "source": [
    "import pandas as pd\n",
    "import plotly.express as px\n",
    "\n",
    "Asia = pd.read_csv('Asia.csv')\n",
    "\n",
    "\n",
    "# Hoặc sử dụng điều kiện boolean\n",
    "data_2021 = Asia[Asia['Year'] == 2021]\n",
    "\n",
    "\n",
    "# Đặt 'Country Name' làm chỉ mục\n",
    "data_2021 = data_2021.set_index('Country Name')\n",
    "\n",
    "# Tạo DataFrame mới từ cột 'Life Ladder' để vẽ bản đồ\n",
    "temp = pd.DataFrame(data_2021['Life Ladder']).reset_index()\n",
    "\n",
    "temp\n",
    "# Sử dụng Plotly Express để vẽ bản đồ\n",
    "fig = px.choropleth(\n",
    "    temp,\n",
    "    locations='Country Name',\n",
    "    locationmode='country names',\n",
    "    color='Life Ladder',\n",
    "    color_continuous_scale='Viridis',  # Chọn một bảng màu tương ứng\n",
    "    title='World map - Life Ladder',\n",
    "    labels={'Life Ladder': 'Lifer Ladder'},\n",
    ")\n",
    "\n",
    "# Cập nhật cài đặt của biểu đồ\n",
    "fig.update_layout(\n",
    "    showlegend=False,\n",
    "    paper_bgcolor='rgb(248, 248, 255)',\n",
    "    geo_bgcolor='rgb(248, 248, 255)',\n",
    "    geo_showframe=False,\n",
    "    title_font_size=22,\n",
    ")\n",
    "\n",
    "# Hiển thị biểu đồ\n",
    "fig.show()\n"
   ]
  }
 ],
 "metadata": {
  "kernelspec": {
   "display_name": "Python 3",
   "language": "python",
   "name": "python3"
  },
  "language_info": {
   "codemirror_mode": {
    "name": "ipython",
    "version": 3
   },
   "file_extension": ".py",
   "mimetype": "text/x-python",
   "name": "python",
   "nbconvert_exporter": "python",
   "pygments_lexer": "ipython3",
   "version": "3.10.11"
  }
 },
 "nbformat": 4,
 "nbformat_minor": 2
}
